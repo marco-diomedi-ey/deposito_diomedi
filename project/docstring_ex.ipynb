{
 "cells": [
  {
   "cell_type": "code",
   "execution_count": 25,
   "id": "a7730f36",
   "metadata": {},
   "outputs": [],
   "source": [
    "def somma(a,b):\n",
    "    \"\"\"\n",
    "    Somma due numeri.\n",
    "    \n",
    "    Parameters\n",
    "    ----------\n",
    "    a: int or float\n",
    "\n",
    "    b: int or float\n",
    "\n",
    "    Returns\n",
    "    -------\n",
    "    int or float\n",
    "        La somma di a e b.\n",
    "    \"\"\"\n",
    "    return a+b"
   ]
  },
  {
   "cell_type": "code",
   "execution_count": 26,
   "id": "1cdfac35",
   "metadata": {},
   "outputs": [],
   "source": [
    "def conta_unici(lista):\n",
    "    \"\"\"\n",
    "    Conta il numero di elementi unici in una lista.\n",
    "    \n",
    "    Parameters\n",
    "    ----------\n",
    "    lista: list\n",
    "        La lista di elementi da scorrere\n",
    "    \n",
    "    Returns\n",
    "    -------\n",
    "    int\n",
    "        Il numero di elementi unici nella lista.\n",
    "    \"\"\"\n",
    "    return len(set(lista))"
   ]
  },
  {
   "cell_type": "code",
   "execution_count": 27,
   "id": "a01eac75",
   "metadata": {},
   "outputs": [],
   "source": [
    "def primi_fino_a_n(n):\n",
    "    \"\"\"\n",
    "    Restituisce una lista di numeri primi da 1 a n.\n",
    "\n",
    "    Parameters\n",
    "    ----------\n",
    "    n: int\n",
    "        Il numero fino a cui cercare i numeri primi.\n",
    "    \n",
    "    Returns\n",
    "    -------\n",
    "    list\n",
    "        Una lista di numeri primi da 1 a n.\n",
    "\n",
    "    \"\"\"\n",
    "    original_n = [2, 3, 5, 7]\n",
    "    c = []\n",
    "    for i in range(1, n+1):\n",
    "        if (i % 2 != 0) and (i % 3 != 0) and (i % 5 != 0) and (i % 7 != 0) or (i in original_n):\n",
    "            c.append(i)\n",
    "    return c"
   ]
  },
  {
   "cell_type": "code",
   "execution_count": 28,
   "id": "95d409fc",
   "metadata": {},
   "outputs": [
    {
     "data": {
      "text/plain": [
       "8.0"
      ]
     },
     "execution_count": 28,
     "metadata": {},
     "output_type": "execute_result"
    }
   ],
   "source": [
    "somma(3.5, 4.5)"
   ]
  },
  {
   "cell_type": "code",
   "execution_count": 29,
   "id": "da709344",
   "metadata": {},
   "outputs": [
    {
     "data": {
      "text/plain": [
       "5"
      ]
     },
     "execution_count": 29,
     "metadata": {},
     "output_type": "execute_result"
    }
   ],
   "source": [
    "conta_unici([1,2,3,4,5,1,2,3])"
   ]
  },
  {
   "cell_type": "code",
   "execution_count": 30,
   "id": "20addeed",
   "metadata": {},
   "outputs": [
    {
     "data": {
      "text/plain": [
       "[1,\n",
       " 2,\n",
       " 3,\n",
       " 5,\n",
       " 7,\n",
       " 11,\n",
       " 13,\n",
       " 17,\n",
       " 19,\n",
       " 23,\n",
       " 29,\n",
       " 31,\n",
       " 37,\n",
       " 41,\n",
       " 43,\n",
       " 47,\n",
       " 53,\n",
       " 59,\n",
       " 61,\n",
       " 67,\n",
       " 71,\n",
       " 73,\n",
       " 79,\n",
       " 83,\n",
       " 89,\n",
       " 97]"
      ]
     },
     "execution_count": 30,
     "metadata": {},
     "output_type": "execute_result"
    }
   ],
   "source": [
    "primi_fino_a_n(100)"
   ]
  }
 ],
 "metadata": {
  "kernelspec": {
   "display_name": "Python 3",
   "language": "python",
   "name": "python3"
  },
  "language_info": {
   "codemirror_mode": {
    "name": "ipython",
    "version": 3
   },
   "file_extension": ".py",
   "mimetype": "text/x-python",
   "name": "python",
   "nbconvert_exporter": "python",
   "pygments_lexer": "ipython3",
   "version": "3.13.7"
  }
 },
 "nbformat": 4,
 "nbformat_minor": 5
}
