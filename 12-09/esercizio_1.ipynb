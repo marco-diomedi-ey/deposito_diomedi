{
 "cells": [
  {
   "cell_type": "code",
   "execution_count": null,
   "id": "c18fd02e",
   "metadata": {},
   "outputs": [],
   "source": [
    "import pandas as pd\n",
    "from sklearn.preprocessing import StandardScaler\n",
    "from sklearn.cluster import KMeans\n",
    "from sklearn.metrics import silhouette_score\n",
    "import matplotlib.pyplot as plt\n",
    "import seaborn as sns"
   ]
  },
  {
   "cell_type": "code",
   "execution_count": 2,
   "id": "7b5f25c5",
   "metadata": {},
   "outputs": [],
   "source": [
    "customers = pd.read_csv(\"../datasets/olist_dataset/olist_customers_dataset.csv\")\n",
    "orders = pd.read_csv(\"../datasets/olist_dataset/olist_orders_dataset.csv\")\n",
    "payments = pd.read_csv(\"../datasets/olist_dataset/olist_order_payments_dataset.csv\")\n",
    "reviews = pd.read_csv(\"../datasets/olist_dataset/olist_order_reviews_dataset.csv\")"
   ]
  },
  {
   "cell_type": "code",
   "execution_count": 3,
   "id": "fcbac625",
   "metadata": {},
   "outputs": [],
   "source": [
    "# Uniamo i dati per ogni cliente\n",
    "df = orders.merge(customers, on='customer_id', how='left') \\\n",
    "           .merge(payments, on='order_id', how='left') \\\n",
    "           .merge(reviews, on='order_id', how='left')\n",
    "\n",
    "# Calcoliamo caratteristiche utili per il clustering\n",
    "customer_features = df.groupby('customer_unique_id').agg({\n",
    "    'order_id': 'count',  # frequenza\n",
    "    'payment_value': 'sum',  # spesa totale\n",
    "    'review_score': 'mean',  # qualità esperienza\n",
    "}).rename(columns={\n",
    "    'order_id': 'num_orders',\n",
    "    'payment_value': 'total_spent',\n",
    "    'review_score': 'avg_review'\n",
    "}).reset_index()"
   ]
  },
  {
   "cell_type": "code",
   "execution_count": 4,
   "id": "7710f20a",
   "metadata": {},
   "outputs": [
    {
     "data": {
      "text/html": [
       "<div>\n",
       "<style scoped>\n",
       "    .dataframe tbody tr th:only-of-type {\n",
       "        vertical-align: middle;\n",
       "    }\n",
       "\n",
       "    .dataframe tbody tr th {\n",
       "        vertical-align: top;\n",
       "    }\n",
       "\n",
       "    .dataframe thead th {\n",
       "        text-align: right;\n",
       "    }\n",
       "</style>\n",
       "<table border=\"1\" class=\"dataframe\">\n",
       "  <thead>\n",
       "    <tr style=\"text-align: right;\">\n",
       "      <th></th>\n",
       "      <th>customer_unique_id</th>\n",
       "      <th>num_orders</th>\n",
       "      <th>total_spent</th>\n",
       "      <th>avg_review</th>\n",
       "    </tr>\n",
       "  </thead>\n",
       "  <tbody>\n",
       "    <tr>\n",
       "      <th>0</th>\n",
       "      <td>0000366f3b9a7992bf8c76cfdf3221e2</td>\n",
       "      <td>1</td>\n",
       "      <td>141.90</td>\n",
       "      <td>5.0</td>\n",
       "    </tr>\n",
       "    <tr>\n",
       "      <th>1</th>\n",
       "      <td>0000b849f77a49e4a4ce2b2a4ca5be3f</td>\n",
       "      <td>1</td>\n",
       "      <td>27.19</td>\n",
       "      <td>4.0</td>\n",
       "    </tr>\n",
       "    <tr>\n",
       "      <th>2</th>\n",
       "      <td>0000f46a3911fa3c0805444483337064</td>\n",
       "      <td>1</td>\n",
       "      <td>86.22</td>\n",
       "      <td>3.0</td>\n",
       "    </tr>\n",
       "    <tr>\n",
       "      <th>3</th>\n",
       "      <td>0000f6ccb0745a6a4b88665a16c9f078</td>\n",
       "      <td>1</td>\n",
       "      <td>43.62</td>\n",
       "      <td>4.0</td>\n",
       "    </tr>\n",
       "    <tr>\n",
       "      <th>4</th>\n",
       "      <td>0004aac84e0df4da2b147fca70cf8255</td>\n",
       "      <td>1</td>\n",
       "      <td>196.89</td>\n",
       "      <td>5.0</td>\n",
       "    </tr>\n",
       "  </tbody>\n",
       "</table>\n",
       "</div>"
      ],
      "text/plain": [
       "                 customer_unique_id  num_orders  total_spent  avg_review\n",
       "0  0000366f3b9a7992bf8c76cfdf3221e2           1       141.90         5.0\n",
       "1  0000b849f77a49e4a4ce2b2a4ca5be3f           1        27.19         4.0\n",
       "2  0000f46a3911fa3c0805444483337064           1        86.22         3.0\n",
       "3  0000f6ccb0745a6a4b88665a16c9f078           1        43.62         4.0\n",
       "4  0004aac84e0df4da2b147fca70cf8255           1       196.89         5.0"
      ]
     },
     "execution_count": 4,
     "metadata": {},
     "output_type": "execute_result"
    }
   ],
   "source": [
    "customer_features.head()"
   ]
  },
  {
   "cell_type": "code",
   "execution_count": null,
   "id": "d6cb3ee6",
   "metadata": {},
   "outputs": [],
   "source": [
    "\n"
   ]
  }
 ],
 "metadata": {
  "kernelspec": {
   "display_name": "Python 3",
   "language": "python",
   "name": "python3"
  },
  "language_info": {
   "codemirror_mode": {
    "name": "ipython",
    "version": 3
   },
   "file_extension": ".py",
   "mimetype": "text/x-python",
   "name": "python",
   "nbconvert_exporter": "python",
   "pygments_lexer": "ipython3",
   "version": "3.13.7"
  }
 },
 "nbformat": 4,
 "nbformat_minor": 5
}
