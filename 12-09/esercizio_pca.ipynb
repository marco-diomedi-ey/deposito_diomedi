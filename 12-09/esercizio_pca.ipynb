{
 "cells": [
  {
   "cell_type": "code",
   "execution_count": 8,
   "id": "d6c8333a",
   "metadata": {},
   "outputs": [],
   "source": [
    "from sklearn.preprocessing import StandardScaler\n",
    "from sklearn.decomposition import PCA\n",
    "from sklearn.model_selection import train_test_split\n",
    "from sklearn.tree import DecisionTreeClassifier\n",
    "from sklearn.metrics import confusion_matrix \n",
    "import time\n",
    "import pandas as pd"
   ]
  },
  {
   "cell_type": "code",
   "execution_count": 9,
   "id": "550f6448",
   "metadata": {},
   "outputs": [],
   "source": [
    "df = pd.read_csv(\"../datasets/digit_recognition/train.csv\")\n",
    "X = df.drop(columns=[\"label\"])\n",
    "y = df[\"label\"]"
   ]
  },
  {
   "cell_type": "code",
   "execution_count": 10,
   "id": "d1579cb7",
   "metadata": {},
   "outputs": [
    {
     "name": "stdout",
     "output_type": "stream",
     "text": [
      "N. Componenti: 320\n",
      "Totale varianza spiegata: 0.950114674334634\n"
     ]
    }
   ],
   "source": [
    "\n",
    "X_scaled = StandardScaler().fit_transform(X)\n",
    "pca = PCA(n_components=0.95, whiten=True)\n",
    "X_pca = pca.fit_transform(X_scaled)\n",
    "\n",
    "print(\"N. Componenti:\", X_pca.shape[1])  \n",
    "print(\"Totale varianza spiegata:\", pca.explained_variance_ratio_.sum())"
   ]
  },
  {
   "cell_type": "code",
   "execution_count": 11,
   "id": "e8382fec",
   "metadata": {},
   "outputs": [],
   "source": [
    "x_train, x_test, y_train, y_test = train_test_split(X_pca, y, test_size=0.2, stratify=y, random_state=42)\n"
   ]
  },
  {
   "cell_type": "code",
   "execution_count": 12,
   "id": "47dfb062",
   "metadata": {},
   "outputs": [
    {
     "name": "stdout",
     "output_type": "stream",
     "text": [
      "Training time (PCA): 25.7511 seconds\n",
      "Accuracy: 0.8045238095238095\n",
      "\n",
      "Confusion Matrix:\n",
      " [[712   0  11  16   2  20  26   8  20  12]\n",
      " [  2 891   7   9   3   3   2   7   9   4]\n",
      " [ 16   7 644  37  21  15  32  13  42   8]\n",
      " [  9   8  30 666   9  54   8  16  49  21]\n",
      " [  8   5  13   9 623  14  18  24  19  81]\n",
      " [ 22   5  20  42  13 566  20   8  45  18]\n",
      " [ 20   1  13   1  16  10 751   1  11   3]\n",
      " [  4   3  11  18  17  10   3 717   8  89]\n",
      " [ 11  12  40  62  26  58   9  14 564  17]\n",
      " [  5   7   7  14  77  26   2  53  23 624]]\n"
     ]
    }
   ],
   "source": [
    "tree = DecisionTreeClassifier(random_state=42)\n",
    "start = time.time()\n",
    "tree.fit(x_train, y_train)\n",
    "end = time.time()\n",
    "print(f\"Training time (PCA): {end - start:.4f} seconds\")\n",
    "print(\"Accuracy:\", tree.score(x_test, y_test))\n",
    "print(\"\\nConfusion Matrix:\\n\", confusion_matrix(y_test, tree.predict(x_test)))"
   ]
  },
  {
   "cell_type": "code",
   "execution_count": 13,
   "id": "7b752fb7",
   "metadata": {},
   "outputs": [],
   "source": [
    "x_train_full, x_test_full, y_train_full, y_test_full = train_test_split(X_scaled, y, test_size=0.2, stratify=y, random_state=42)"
   ]
  },
  {
   "cell_type": "code",
   "execution_count": 14,
   "id": "d1e8a492",
   "metadata": {},
   "outputs": [
    {
     "name": "stdout",
     "output_type": "stream",
     "text": [
      "Training time (full features): 8.1799 seconds\n",
      "Accuracy (full features): 0.8551190476190477\n",
      "\n",
      "Confusion Matrix (full features):\n",
      " [[753   0  11   4   4  16  13   7  12   7]\n",
      " [  0 887   7   7   5   3   6   3  12   7]\n",
      " [ 10  17 701  21  10   7   8  12  35  14]\n",
      " [ 13  11  29 702  10  40   7  13  26  19]\n",
      " [  5   4   9   3 707  10  11  14  11  40]\n",
      " [  4   5  10  41   9 612  29   4  25  20]\n",
      " [ 10   4   7   6  16  19 740   0  22   3]\n",
      " [  3   6  18  25  11   5   0 779   9  24]\n",
      " [  9  22  31  30  16  32  17   6 623  27]\n",
      " [  7   3  17  22  42  22   3  23  20 679]]\n"
     ]
    }
   ],
   "source": [
    "tree = DecisionTreeClassifier(random_state=42)\n",
    "start = time.time()\n",
    "tree.fit(x_train_full, y_train)\n",
    "end = time.time()\n",
    "print(f\"Training time (full features): {end - start:.4f} seconds\")\n",
    "print(\"Accuracy (full features):\", tree.score(x_test_full, y_test))\n",
    "print(\"\\nConfusion Matrix (full features):\\n\", confusion_matrix(y_test, tree.predict(x_test_full)))"
   ]
  },
  {
   "cell_type": "markdown",
   "id": "799eb6b7",
   "metadata": {},
   "source": [
    "**Spiegazione punto 8**\n",
    "\n",
    "Il tempo di training con PCA è di circa 26 secondi, mentre il tempo di training senza PCA è di circa 8 secondi.\n",
    "Per quanto riguarda l'accuracy, si presenta con un 80% con la PCA e 86% senza la PCA, aumentando di 6 punti percentuale senza l'applicazione della PCA per questo dataset specifico. Tale differenza nell'accuracy è da riportarsi dalla perdita di informazioni data dalla riduzione della dimensionalità con la PCA."
   ]
  }
 ],
 "metadata": {
  "kernelspec": {
   "display_name": "Python 3",
   "language": "python",
   "name": "python3"
  },
  "language_info": {
   "codemirror_mode": {
    "name": "ipython",
    "version": 3
   },
   "file_extension": ".py",
   "mimetype": "text/x-python",
   "name": "python",
   "nbconvert_exporter": "python",
   "pygments_lexer": "ipython3",
   "version": "3.13.7"
  }
 },
 "nbformat": 4,
 "nbformat_minor": 5
}
