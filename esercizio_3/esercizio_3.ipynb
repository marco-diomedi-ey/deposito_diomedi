{
 "cells": [
  {
   "cell_type": "code",
   "execution_count": 15,
   "id": "4f52e35e",
   "metadata": {},
   "outputs": [],
   "source": [
    "import pandas as pd\n",
    "from sklearn.model_selection import train_test_split\n",
    "from sklearn.tree import DecisionTreeClassifier\n",
    "from sklearn.metrics import classification_report\n"
   ]
  },
  {
   "cell_type": "code",
   "execution_count": 16,
   "id": "8b3ea885",
   "metadata": {},
   "outputs": [],
   "source": [
    "data = pd.read_csv('../datasets/creditcard.csv')\n",
    "X = data.drop('Class', axis=1)\n",
    "y = data['Class']"
   ]
  },
  {
   "cell_type": "code",
   "execution_count": 17,
   "id": "772a3f82",
   "metadata": {},
   "outputs": [],
   "source": [
    "x_temp, x_test, y_temp, y_test = train_test_split(X, y, test_size=0.15, random_state=42, stratify=y)\n",
    "x_train, x_val, y_train, y_val = train_test_split(x_temp, y_temp, test_size=0.176, random_state=42, stratify=y_temp)"
   ]
  },
  {
   "cell_type": "code",
   "execution_count": 26,
   "id": "c09a7da4",
   "metadata": {},
   "outputs": [],
   "source": [
    "x_train_alt, x_test_alt, y_train_alt, y_test_alt = train_test_split(X, y, test_size=0.30, random_state=42, stratify=y)\n",
    "x_test_def, x_val_alt, y_test_def, y_val_alt = train_test_split(x_test_alt, y_test_alt, test_size=0.5, random_state=42, stratify=y_test_alt)"
   ]
  },
  {
   "cell_type": "code",
   "execution_count": null,
   "id": "24b9c5c6",
   "metadata": {},
   "outputs": [
    {
     "name": "stdout",
     "output_type": "stream",
     "text": [
      "Training set size: 199364 samples\n",
      "Validation set size: 42722 samples\n",
      "Test set size: 42721 samples\n"
     ]
    }
   ],
   "source": [
    "print(f\"Alter method Training set size: {x_train_alt.shape[0]} samples\")\n",
    "print(f\"Alter method Validation set size: {x_val_alt.shape[0]} samples\")\n",
    "print(f\"Alter method Test set size: {x_test_def.shape[0]} samples\")\n"
   ]
  },
  {
   "cell_type": "code",
   "execution_count": 28,
   "id": "f0ebea63",
   "metadata": {},
   "outputs": [
    {
     "name": "stdout",
     "output_type": "stream",
     "text": [
      "Training set size: 199478 samples\n",
      "Validation set size: 42607 samples\n",
      "Test set size: 42722 samples\n"
     ]
    }
   ],
   "source": [
    "print(f\"Training set size: {x_train.shape[0]} samples\")\n",
    "print(f\"Validation set size: {x_val.shape[0]} samples\")\n",
    "print(f\"Test set size: {x_test.shape[0]} samples\")\n"
   ]
  },
  {
   "cell_type": "code",
   "execution_count": 19,
   "id": "4d7b6b6b",
   "metadata": {},
   "outputs": [],
   "source": [
    "tree = DecisionTreeClassifier(class_weight='balanced', random_state=42,\n",
    "                              criterion='gini', max_depth=5, min_samples_split=10, min_samples_leaf=5)"
   ]
  },
  {
   "cell_type": "code",
   "execution_count": 20,
   "id": "3db74409",
   "metadata": {},
   "outputs": [
    {
     "name": "stdout",
     "output_type": "stream",
     "text": [
      "Decision Tree Classifier Tuning Report:\n",
      "              precision    recall  f1-score   support\n",
      "\n",
      "           0       1.00      0.97      0.98     42533\n",
      "           1       0.05      0.93      0.09        74\n",
      "\n",
      "    accuracy                           0.97     42607\n",
      "   macro avg       0.52      0.95      0.54     42607\n",
      "weighted avg       1.00      0.97      0.98     42607\n",
      "\n"
     ]
    }
   ],
   "source": [
    "tree.fit(x_train, y_train)\n",
    "y_pred_tree = tree.predict(x_val)\n",
    "print(\"Decision Tree Classifier Tuning Report:\")\n",
    "print(classification_report(y_val, y_pred_tree))"
   ]
  },
  {
   "cell_type": "code",
   "execution_count": 21,
   "id": "1937f493",
   "metadata": {},
   "outputs": [
    {
     "name": "stdout",
     "output_type": "stream",
     "text": [
      "Decision Tree Classifier Report:\n",
      "              precision    recall  f1-score   support\n",
      "\n",
      "           0       1.00      0.97      0.98     42648\n",
      "           1       0.04      0.82      0.08        74\n",
      "\n",
      "    accuracy                           0.97     42722\n",
      "   macro avg       0.52      0.90      0.53     42722\n",
      "weighted avg       1.00      0.97      0.98     42722\n",
      "\n"
     ]
    }
   ],
   "source": [
    "tree.fit(x_train, y_train)\n",
    "y_pred_tree = tree.predict(x_test)\n",
    "print(\"Decision Tree Classifier Report:\")\n",
    "print(classification_report(y_test, y_pred_tree))"
   ]
  },
  {
   "cell_type": "code",
   "execution_count": 22,
   "id": "5e93c8ba",
   "metadata": {},
   "outputs": [],
   "source": [
    "tree = DecisionTreeClassifier(class_weight='balanced', random_state=42,\n",
    "                              criterion='entropy', max_depth=10, min_samples_split=20, min_samples_leaf=10)"
   ]
  },
  {
   "cell_type": "code",
   "execution_count": 23,
   "id": "bea0556e",
   "metadata": {},
   "outputs": [
    {
     "name": "stdout",
     "output_type": "stream",
     "text": [
      "Decision Tree Classifier Tuning Report:\n",
      "              precision    recall  f1-score   support\n",
      "\n",
      "           0       1.00      0.99      1.00     42533\n",
      "           1       0.18      0.84      0.29        74\n",
      "\n",
      "    accuracy                           0.99     42607\n",
      "   macro avg       0.59      0.92      0.64     42607\n",
      "weighted avg       1.00      0.99      1.00     42607\n",
      "\n"
     ]
    }
   ],
   "source": [
    "tree.fit(x_train, y_train)\n",
    "y_pred_tree = tree.predict(x_val)\n",
    "print(\"Decision Tree Classifier Tuning Report:\")\n",
    "print(classification_report(y_val, y_pred_tree))"
   ]
  },
  {
   "cell_type": "code",
   "execution_count": 24,
   "id": "ec572865",
   "metadata": {},
   "outputs": [
    {
     "name": "stdout",
     "output_type": "stream",
     "text": [
      "Decision Tree Classifier Report:\n",
      "              precision    recall  f1-score   support\n",
      "\n",
      "           0       1.00      0.99      1.00     42648\n",
      "           1       0.16      0.76      0.27        74\n",
      "\n",
      "    accuracy                           0.99     42722\n",
      "   macro avg       0.58      0.87      0.63     42722\n",
      "weighted avg       1.00      0.99      1.00     42722\n",
      "\n"
     ]
    }
   ],
   "source": [
    "tree.fit(x_train, y_train)\n",
    "y_pred_tree = tree.predict(x_test)\n",
    "print(\"Decision Tree Classifier Report:\")\n",
    "print(classification_report(y_test, y_pred_tree))"
   ]
  }
 ],
 "metadata": {
  "kernelspec": {
   "display_name": "Python 3",
   "language": "python",
   "name": "python3"
  },
  "language_info": {
   "codemirror_mode": {
    "name": "ipython",
    "version": 3
   },
   "file_extension": ".py",
   "mimetype": "text/x-python",
   "name": "python",
   "nbconvert_exporter": "python",
   "pygments_lexer": "ipython3",
   "version": "3.13.7"
  }
 },
 "nbformat": 4,
 "nbformat_minor": 5
}
