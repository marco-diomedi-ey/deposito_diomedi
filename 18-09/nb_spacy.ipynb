{
 "cells": [
  {
   "cell_type": "code",
   "execution_count": 1,
   "id": "a857a6d6",
   "metadata": {},
   "outputs": [],
   "source": [
    "import spacy\n",
    "from spacy import displacy"
   ]
  },
  {
   "cell_type": "code",
   "execution_count": 2,
   "id": "1e13bea6",
   "metadata": {},
   "outputs": [],
   "source": [
    "# Carica il modello per l'italiano\n",
    "nlp = spacy.load(\"it_core_news_sm\")\n",
    "\n",
    "# Testo da analizzare\n",
    "testo = \"Elencami tutte le strade di cagliari, con il numero civico, il CAP e la zona di appartenenza.\"\n"
   ]
  },
  {
   "cell_type": "code",
   "execution_count": 3,
   "id": "4ed54854",
   "metadata": {},
   "outputs": [
    {
     "name": "stdout",
     "output_type": "stream",
     "text": [
      "Token: Elencami     | Lemma: Elencami     | POS: NOUN       | Dipendenza: amod       | Head: strade\n",
      "Token: tutte        | Lemma: tutto        | POS: DET        | Dipendenza: det:predet | Head: strade\n",
      "Token: le           | Lemma: il           | POS: DET        | Dipendenza: det        | Head: strade\n",
      "Token: strade       | Lemma: strada       | POS: NOUN       | Dipendenza: ROOT       | Head: strade\n",
      "Token: di           | Lemma: di           | POS: ADP        | Dipendenza: case       | Head: cagliari\n",
      "Token: cagliari     | Lemma: cagliario    | POS: NOUN       | Dipendenza: nmod       | Head: strade\n",
      "Token: ,            | Lemma: ,            | POS: PUNCT      | Dipendenza: punct      | Head: strade\n",
      "Token: con          | Lemma: con          | POS: ADP        | Dipendenza: case       | Head: numero\n",
      "Token: il           | Lemma: il           | POS: DET        | Dipendenza: det        | Head: numero\n",
      "Token: numero       | Lemma: numero       | POS: NOUN       | Dipendenza: nmod       | Head: strade\n",
      "Token: civico       | Lemma: civico       | POS: ADJ        | Dipendenza: amod       | Head: numero\n",
      "Token: ,            | Lemma: ,            | POS: PUNCT      | Dipendenza: punct      | Head: CAP\n",
      "Token: il           | Lemma: il           | POS: DET        | Dipendenza: det        | Head: CAP\n",
      "Token: CAP          | Lemma: CAP          | POS: PROPN      | Dipendenza: conj       | Head: numero\n",
      "Token: e            | Lemma: e            | POS: CCONJ      | Dipendenza: cc         | Head: zona\n",
      "Token: la           | Lemma: il           | POS: DET        | Dipendenza: det        | Head: zona\n",
      "Token: zona         | Lemma: zona         | POS: NOUN       | Dipendenza: conj       | Head: numero\n",
      "Token: di           | Lemma: di           | POS: ADP        | Dipendenza: case       | Head: appartenenza\n",
      "Token: appartenenza | Lemma: appartenenza | POS: NOUN       | Dipendenza: nmod       | Head: zona\n",
      "Token: .            | Lemma: .            | POS: PUNCT      | Dipendenza: punct      | Head: strade\n"
     ]
    }
   ],
   "source": [
    "# Analisi\n",
    "doc = nlp(testo)\n",
    "\n",
    "# Output analisi\n",
    "for token in doc:\n",
    "    print(f\"Token: {token.text:12} | Lemma: {token.lemma_:12} | POS: {token.pos_:10} | Dipendenza: {token.dep_:10} | Head: {token.head.text}\")\n"
   ]
  },
  {
   "cell_type": "code",
   "execution_count": 8,
   "id": "8ecfa0b9",
   "metadata": {},
   "outputs": [
    {
     "ename": "ImportError",
     "evalue": "cannot import name 'display' from 'IPython.core.display' (c:\\Users\\KG376DF\\OneDrive - EY\\Desktop\\python_scripts\\v_env\\Lib\\site-packages\\IPython\\core\\display.py)",
     "output_type": "error",
     "traceback": [
      "\u001b[31m---------------------------------------------------------------------------\u001b[39m",
      "\u001b[31mImportError\u001b[39m                               Traceback (most recent call last)",
      "\u001b[36mCell\u001b[39m\u001b[36m \u001b[39m\u001b[32mIn[8]\u001b[39m\u001b[32m, line 2\u001b[39m\n\u001b[32m      1\u001b[39m \u001b[38;5;66;03m# Visualizzazione delle dipendenze sintattiche\u001b[39;00m\n\u001b[32m----> \u001b[39m\u001b[32m2\u001b[39m \u001b[43mdisplacy\u001b[49m\u001b[43m.\u001b[49m\u001b[43mrender\u001b[49m\u001b[43m(\u001b[49m\u001b[43mdoc\u001b[49m\u001b[43m,\u001b[49m\u001b[43m \u001b[49m\u001b[43mstyle\u001b[49m\u001b[43m=\u001b[49m\u001b[33;43m\"\u001b[39;49m\u001b[33;43mdep\u001b[39;49m\u001b[33;43m\"\u001b[39;49m\u001b[43m,\u001b[49m\u001b[43m \u001b[49m\u001b[43mjupyter\u001b[49m\u001b[43m=\u001b[49m\u001b[38;5;28;43;01mTrue\u001b[39;49;00m\u001b[43m)\u001b[49m \n",
      "\u001b[36mFile \u001b[39m\u001b[32mc:\\Users\\KG376DF\\OneDrive - EY\\Desktop\\python_scripts\\v_env\\Lib\\site-packages\\spacy\\displacy\\__init__.py:69\u001b[39m, in \u001b[36mrender\u001b[39m\u001b[34m(docs, style, page, minify, jupyter, options, manual)\u001b[39m\n\u001b[32m     65\u001b[39m     html = RENDER_WRAPPER(html)\n\u001b[32m     66\u001b[39m \u001b[38;5;28;01mif\u001b[39;00m jupyter \u001b[38;5;129;01mor\u001b[39;00m (jupyter \u001b[38;5;129;01mis\u001b[39;00m \u001b[38;5;28;01mNone\u001b[39;00m \u001b[38;5;129;01mand\u001b[39;00m is_in_jupyter()):\n\u001b[32m     67\u001b[39m     \u001b[38;5;66;03m# return HTML rendered by IPython display()\u001b[39;00m\n\u001b[32m     68\u001b[39m     \u001b[38;5;66;03m# See #4840 for details on span wrapper to disable mathjax\u001b[39;00m\n\u001b[32m---> \u001b[39m\u001b[32m69\u001b[39m     \u001b[38;5;28;01mfrom\u001b[39;00m\u001b[38;5;250m \u001b[39m\u001b[34;01mIPython\u001b[39;00m\u001b[34;01m.\u001b[39;00m\u001b[34;01mcore\u001b[39;00m\u001b[34;01m.\u001b[39;00m\u001b[34;01mdisplay\u001b[39;00m\u001b[38;5;250m \u001b[39m\u001b[38;5;28;01mimport\u001b[39;00m HTML, display\n\u001b[32m     71\u001b[39m     \u001b[38;5;28;01mreturn\u001b[39;00m display(HTML(\u001b[33m'\u001b[39m\u001b[33m<span class=\u001b[39m\u001b[33m\"\u001b[39m\u001b[33mtex2jax_ignore\u001b[39m\u001b[33m\"\u001b[39m\u001b[33m>\u001b[39m\u001b[38;5;132;01m{}\u001b[39;00m\u001b[33m</span>\u001b[39m\u001b[33m'\u001b[39m.format(html)))\n\u001b[32m     72\u001b[39m \u001b[38;5;28;01mreturn\u001b[39;00m html\n",
      "\u001b[31mImportError\u001b[39m: cannot import name 'display' from 'IPython.core.display' (c:\\Users\\KG376DF\\OneDrive - EY\\Desktop\\python_scripts\\v_env\\Lib\\site-packages\\IPython\\core\\display.py)"
     ]
    }
   ],
   "source": [
    "# Visualizzazione delle dipendenze sintattiche\n",
    "displacy.render(doc, style=\"dep\", jupyter=True) "
   ]
  }
 ],
 "metadata": {
  "kernelspec": {
   "display_name": "v_env",
   "language": "python",
   "name": "python3"
  },
  "language_info": {
   "codemirror_mode": {
    "name": "ipython",
    "version": 3
   },
   "file_extension": ".py",
   "mimetype": "text/x-python",
   "name": "python",
   "nbconvert_exporter": "python",
   "pygments_lexer": "ipython3",
   "version": "3.13.7"
  }
 },
 "nbformat": 4,
 "nbformat_minor": 5
}
